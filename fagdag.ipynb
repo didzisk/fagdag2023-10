{
 "cells": [
  {
   "cell_type": "markdown",
   "metadata": {},
   "source": [
    "# Agenda\n",
    "## Kort intro F#\n"
   ]
  },
  {
   "cell_type": "code",
   "execution_count": 34,
   "metadata": {
    "dotnet_interactive": {
     "language": "fsharp"
    },
    "polyglot_notebook": {
     "kernelName": "fsharp"
    }
   },
   "outputs": [
    {
     "name": "stdout",
     "output_type": "stream",
     "text": [
      "Hello, world!\n",
      "Hello, world!\n"
     ]
    }
   ],
   "source": [
    "let a = \"Hello, world!\" \n",
    "printfn \"%s\" a\n",
    "Console.WriteLine(a)"
   ]
  },
  {
   "cell_type": "code",
   "execution_count": 35,
   "metadata": {
    "dotnet_interactive": {
     "language": "fsharp"
    },
    "polyglot_notebook": {
     "kernelName": "fsharp"
    }
   },
   "outputs": [
    {
     "name": "stdout",
     "output_type": "stream",
     "text": [
      "5\r\n"
     ]
    }
   ],
   "source": [
    "let a = 5 \n",
    "//printfn \"%s\" a   //sic\n",
    "Console.WriteLine(a)"
   ]
  },
  {
   "cell_type": "code",
   "execution_count": 24,
   "metadata": {
    "dotnet_interactive": {
     "language": "fsharp"
    },
    "polyglot_notebook": {
     "kernelName": "fsharp"
    }
   },
   "outputs": [
    {
     "name": "stdout",
     "output_type": "stream",
     "text": [
      "4\n",
      "4\n",
      "0004\n"
     ]
    }
   ],
   "source": [
    "let add2 a = a+2\n",
    "printfn \"%d\" (add2 2)\n",
    "printfn $\"{add2 2}\"\n",
    "printfn $\"%04d{add2 2}\""
   ]
  },
  {
   "cell_type": "code",
   "execution_count": 32,
   "metadata": {
    "dotnet_interactive": {
     "language": "fsharp"
    },
    "polyglot_notebook": {
     "kernelName": "fsharp"
    }
   },
   "outputs": [
    {
     "name": "stdout",
     "output_type": "stream",
     "text": [
      "10\n",
      "35\n"
     ]
    }
   ],
   "source": [
    "let evalWith5 f = f 5\n",
    "let mul2 a = a*2\n",
    "printfn \"%d\" (evalWith5 mul2)\n",
    "\n",
    "let multiply a b =\n",
    "    a * b\n",
    "let mulGenerator b =\n",
    "    multiply b\n",
    "\n",
    "let mul7 = \n",
    "    mulGenerator 7 \n",
    "printfn \"%d\" (evalWith5 mul7)\n"
   ]
  },
  {
   "cell_type": "code",
   "execution_count": 30,
   "metadata": {
    "dotnet_interactive": {
     "language": "fsharp"
    },
    "polyglot_notebook": {
     "kernelName": "fsharp"
    }
   },
   "outputs": [
    {
     "name": "stdout",
     "output_type": "stream",
     "text": [
      "35\n"
     ]
    }
   ],
   "source": [
    "let mulGeneratorVer2 a =\n",
    "    (*) a\n",
    "let mul7 = mulGeneratorVer2 7\n",
    "let trettiFem = mul7 5\n",
    "\n",
    "printfn \"%d\" trettiFem\n"
   ]
  },
  {
   "cell_type": "code",
   "execution_count": 40,
   "metadata": {
    "dotnet_interactive": {
     "language": "fsharp"
    },
    "polyglot_notebook": {
     "kernelName": "fsharp"
    }
   },
   "outputs": [
    {
     "name": "stdout",
     "output_type": "stream",
     "text": [
      "33\n",
      "33\n"
     ]
    }
   ],
   "source": [
    "let trettiTre =\n",
    "    5\n",
    "    |> (*) 7\n",
    "    |> (-) 2\n",
    "    |> (*) -1\n",
    "\n",
    "printfn \"%d\" trettiTre\n",
    "\n",
    "let mul7 a = a * 7\n",
    "let sub2 a = a - 2\n",
    "\n",
    "5\n",
    "|> mul7\n",
    "|> sub2\n",
    "|> printfn \"%A\""
   ]
  },
  {
   "cell_type": "code",
   "execution_count": 3,
   "metadata": {
    "dotnet_interactive": {
     "language": "fsharp"
    },
    "polyglot_notebook": {
     "kernelName": "fsharp"
    }
   },
   "outputs": [
    {
     "name": "stdout",
     "output_type": "stream",
     "text": [
      "1\n",
      "9\n",
      "25\n",
      "49\n"
     ]
    }
   ],
   "source": [
    "let inputs = [1; 2; 3; 4; 5; 6; 7] //\"list of int\"\n",
    "\n",
    "let square a = a * a\n",
    "\n",
    "inputs\n",
    "|> List.filter (fun x-> x % 2 = 1)\n",
    "|> List.map square\n",
    "|> List.iter (printfn \"%d\")"
   ]
  },
  {
   "cell_type": "code",
   "execution_count": 11,
   "metadata": {
    "dotnet_interactive": {
     "language": "fsharp"
    },
    "polyglot_notebook": {
     "kernelName": "fsharp"
    }
   },
   "outputs": [
    {
     "data": {
      "text/html": [
       "<div><div></div><div></div><div><strong>Installed Packages</strong><ul><li><span>XPlot.Plotly, 4.0.6</span></li></ul></div></div>"
      ]
     },
     "metadata": {},
     "output_type": "display_data"
    }
   ],
   "source": [
    "#r \"nuget: XPlot.Plotly\"\n",
    "\n",
    "open XPlot.Plotly\n",
    "\n",
    "[ 1 .. 100 ]\n",
    "|> List.map (fun x -> \n",
    "    (x, sqrt (double x) )\n",
    "     )\n",
    "|> Chart.Line |> Chart.Show\n",
    "\n"
   ]
  },
  {
   "cell_type": "code",
   "execution_count": 15,
   "metadata": {
    "dotnet_interactive": {
     "language": "fsharp"
    },
    "polyglot_notebook": {
     "kernelName": "fsharp"
    }
   },
   "outputs": [
    {
     "data": {
      "text/html": [
       "<div><div></div><div></div><div><strong>Installed Packages</strong><ul><li><span>Plotly.NET.Interactive, 4.2.0</span></li></ul></div></div>"
      ]
     },
     "metadata": {},
     "output_type": "display_data"
    },
    {
     "ename": "Error",
     "evalue": "System.IO.FileNotFoundException: Could not load file or assembly 'Giraffe.ViewEngine.StrongName, Version=2.0.0.0, Culture=neutral, PublicKeyToken=028aa8e2a326f4d0'. The system cannot find the file specified.\r\nFile name: 'Giraffe.ViewEngine.StrongName, Version=2.0.0.0, Culture=neutral, PublicKeyToken=028aa8e2a326f4d0'\r\n   at Plotly.NET.Interactive.Formatters.toInteractiveHTML(GenericChart gChart)\r\n   at <StartupCode$Plotly-NET-Interactive>.$Extension.Microsoft-DotNet-Interactive-IKernelExtension-OnLoadAsync@16.Invoke(GenericChart chart, TextWriter writer)\r\n   at Microsoft.DotNet.Interactive.Formatting.Formatter.<>c__DisplayClass46_0`1.<Register>b__0(Object value, FormatContext context) in D:\\a\\_work\\1\\s\\src\\Microsoft.DotNet.Interactive.Formatting\\Formatter.cs:line 428\r\n   at Microsoft.DotNet.Interactive.Formatting.Formatter`1.FormatTo(T obj, FormatContext context, String mimeType) in D:\\a\\_work\\1\\s\\src\\Microsoft.DotNet.Interactive.Formatting\\Formatter{T}.cs:line 86\r\n   at Microsoft.DotNet.Interactive.Formatting.Formatter.ToDisplayString(Object obj, String mimeType) in D:\\a\\_work\\1\\s\\src\\Microsoft.DotNet.Interactive.Formatting\\Formatter.cs:line 282\r\n   at Microsoft.DotNet.Interactive.FormattedValue.<>c__DisplayClass12_0.<CreateManyFromObject>b__0(String mimeType) in D:\\a\\_work\\1\\s\\src\\Microsoft.DotNet.Interactive\\FormattedValue.cs:line 49\r\n   at System.Linq.Enumerable.SelectArrayIterator`2.ToArray()\r\n   at <StartupCode$Microsoft-DotNet-Interactive-FSharp>.$FSharpKernel.clo@196-5.MoveNext() in D:\\a\\_work\\1\\s\\src\\Microsoft.DotNet.Interactive.FSharp\\FSharpKernel.fs:line 239\r\n   at Microsoft.DotNet.Interactive.Kernel.HandleAsync(KernelCommand command, KernelInvocationContext context) in D:\\a\\_work\\1\\s\\src\\Microsoft.DotNet.Interactive\\Kernel.cs:line 327\r\n   at Microsoft.DotNet.Interactive.KernelCommandPipeline.<BuildPipeline>b__6_0(KernelCommand command, KernelInvocationContext context, KernelPipelineContinuation _) in D:\\a\\_work\\1\\s\\src\\Microsoft.DotNet.Interactive\\KernelCommandPipeline.cs:line 60\r\n   at Microsoft.DotNet.Interactive.KernelCommandPipeline.SendAsync(KernelCommand command, KernelInvocationContext context) in D:\\a\\_work\\1\\s\\src\\Microsoft.DotNet.Interactive\\KernelCommandPipeline.cs:line 51",
     "output_type": "error",
     "traceback": [
      "System.IO.FileNotFoundException: Could not load file or assembly 'Giraffe.ViewEngine.StrongName, Version=2.0.0.0, Culture=neutral, PublicKeyToken=028aa8e2a326f4d0'. The system cannot find the file specified.\r\n",
      "File name: 'Giraffe.ViewEngine.StrongName, Version=2.0.0.0, Culture=neutral, PublicKeyToken=028aa8e2a326f4d0'\r\n",
      "   at Plotly.NET.Interactive.Formatters.toInteractiveHTML(GenericChart gChart)\r\n",
      "   at <StartupCode$Plotly-NET-Interactive>.$Extension.Microsoft-DotNet-Interactive-IKernelExtension-OnLoadAsync@16.Invoke(GenericChart chart, TextWriter writer)\r\n",
      "   at Microsoft.DotNet.Interactive.Formatting.Formatter.<>c__DisplayClass46_0`1.<Register>b__0(Object value, FormatContext context) in D:\\a\\_work\\1\\s\\src\\Microsoft.DotNet.Interactive.Formatting\\Formatter.cs:line 428\r\n",
      "   at Microsoft.DotNet.Interactive.Formatting.Formatter`1.FormatTo(T obj, FormatContext context, String mimeType) in D:\\a\\_work\\1\\s\\src\\Microsoft.DotNet.Interactive.Formatting\\Formatter{T}.cs:line 86\r\n",
      "   at Microsoft.DotNet.Interactive.Formatting.Formatter.ToDisplayString(Object obj, String mimeType) in D:\\a\\_work\\1\\s\\src\\Microsoft.DotNet.Interactive.Formatting\\Formatter.cs:line 282\r\n",
      "   at Microsoft.DotNet.Interactive.FormattedValue.<>c__DisplayClass12_0.<CreateManyFromObject>b__0(String mimeType) in D:\\a\\_work\\1\\s\\src\\Microsoft.DotNet.Interactive\\FormattedValue.cs:line 49\r\n",
      "   at System.Linq.Enumerable.SelectArrayIterator`2.ToArray()\r\n",
      "   at <StartupCode$Microsoft-DotNet-Interactive-FSharp>.$FSharpKernel.clo@196-5.MoveNext() in D:\\a\\_work\\1\\s\\src\\Microsoft.DotNet.Interactive.FSharp\\FSharpKernel.fs:line 239\r\n",
      "   at Microsoft.DotNet.Interactive.Kernel.HandleAsync(KernelCommand command, KernelInvocationContext context) in D:\\a\\_work\\1\\s\\src\\Microsoft.DotNet.Interactive\\Kernel.cs:line 327\r\n",
      "   at Microsoft.DotNet.Interactive.KernelCommandPipeline.<BuildPipeline>b__6_0(KernelCommand command, KernelInvocationContext context, KernelPipelineContinuation _) in D:\\a\\_work\\1\\s\\src\\Microsoft.DotNet.Interactive\\KernelCommandPipeline.cs:line 60\r\n",
      "   at Microsoft.DotNet.Interactive.KernelCommandPipeline.SendAsync(KernelCommand command, KernelInvocationContext context) in D:\\a\\_work\\1\\s\\src\\Microsoft.DotNet.Interactive\\KernelCommandPipeline.cs:line 51"
     ]
    }
   ],
   "source": [
    "#r \"nuget: Plotly.NET.Interactive, 4.2.0\"\n",
    "open Plotly.NET\n",
    "let xData' = [ 0. .. 10. ]\n",
    "let yData' = [ 0. .. 10. ]\n",
    "Chart.Point(xData', yData')\n",
    "\n"
   ]
  },
  {
   "cell_type": "code",
   "execution_count": 61,
   "metadata": {
    "dotnet_interactive": {
     "language": "fsharp"
    },
    "polyglot_notebook": {
     "kernelName": "fsharp"
    }
   },
   "outputs": [
    {
     "name": "stdout",
     "output_type": "stream",
     "text": [
      "1023\n"
     ]
    }
   ],
   "source": [
    "let pow2 x =\n",
    "    1 <<< x\n",
    "\n",
    "seq {0..9}\n",
    "|> Seq.map pow2\n",
    "|> Seq.sum\n",
    "|> printfn \"%A\""
   ]
  },
  {
   "cell_type": "markdown",
   "metadata": {},
   "source": [
    "Hva er funksjonell programmering?\n",
    "OOP vs Functional:"
   ]
  },
  {
   "cell_type": "code",
   "execution_count": null,
   "metadata": {
    "dotnet_interactive": {
     "language": "csharp"
    },
    "polyglot_notebook": {
     "kernelName": "csharp"
    }
   },
   "outputs": [],
   "source": [
    "public interface IAdder\n",
    "{\n",
    "    int Increment(int i);\n",
    "}\n",
    "\n",
    "public class Adder2 : IAdder\n",
    "{\n",
    "    public int Increment(int i)\n",
    "    {\n",
    "        return i+2;\n",
    "    }\n",
    "}\n",
    "\n",
    "var adder = new Adder2();\n",
    "var arg = 1;\n",
    "var resultat = adder.Increment(arg);\n",
    "Console.WriteLine(resultat);"
   ]
  },
  {
   "cell_type": "code",
   "execution_count": null,
   "metadata": {
    "dotnet_interactive": {
     "language": "fsharp"
    },
    "polyglot_notebook": {
     "kernelName": "fsharp"
    }
   },
   "outputs": [],
   "source": []
  },
  {
   "cell_type": "markdown",
   "metadata": {},
   "source": []
  }
 ],
 "metadata": {
  "kernelspec": {
   "display_name": ".NET (C#)",
   "language": "C#",
   "name": ".net-csharp"
  },
  "language_info": {
   "name": "polyglot-notebook"
  },
  "orig_nbformat": 4,
  "polyglot_notebook": {
   "kernelInfo": {
    "defaultKernelName": "csharp",
    "items": [
     {
      "aliases": [],
      "name": "csharp"
     }
    ]
   }
  }
 },
 "nbformat": 4,
 "nbformat_minor": 2
}
